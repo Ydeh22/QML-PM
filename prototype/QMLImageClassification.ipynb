{
  "cells": [
    {
      "cell_type": "markdown",
      "metadata": {
        "id": "tI9FTyXQ0tb4"
      },
      "source": [
        "The following illustration shows a generic base neural network model, Mp (Machine Learning model/ML-Model) trained on ImageNet dataset (Da). The base model is then used as the base for Transfer Learning, on Image Classification task (based on resnet18). The last layer of this pre-trained model (fully-connected/fc layer, A2) is then modified (to be A2') by a quantum means through a quantum machine learning framework: Pennylane.ai with a new dataset (Db), generating a new model (Mrt).\n",
        "\n",
        "The Quantum ML framework (which is open-source) provides convenient access to multiple quantum simulator and real quantum computer backend, including IBM real Quantum Computer on IBM Quantum Computing Experience (IBM Cloud) through an open-source Qiskit API (Application Programming Interface) accessible by Python programming language.\n",
        "\n",
        "It is recommended to run this project on Google Colab, utilizing the GPU accelerator. \n"
      ]
    },
    {
      "cell_type": "markdown",
      "metadata": {
        "id": "CZBrHSXJ4WsJ"
      },
      "source": [
        "# 1. Preparation"
      ]
    },
    {
      "cell_type": "markdown",
      "metadata": {
        "id": "UHaXgMqw4WsK"
      },
      "source": [
        "## Load required Python libraries"
      ]
    },
    {
      "cell_type": "code",
      "execution_count": 9,
      "metadata": {
        "colab": {
          "base_uri": "https://localhost:8080/"
        },
        "id": "f2nN6nT04WsK",
        "outputId": "55eb9776-ef27-4234-8f76-626567de6332"
      },
      "outputs": [
        {
          "output_type": "stream",
          "name": "stdout",
          "text": [
            "Installing libraries, this might take a while\n"
          ]
        }
      ],
      "source": [
        "print(\"Installing libraries, this might take a while\")\n",
        "\n",
        "!pip3 install -q cirq\n",
        "!pip3 install -q torch\n",
        "!pip3 install -q qiskit\n",
        "!pip3 install -q kaggle\n",
        "!pip3 install -q pennylane\n",
        "!pip3 install -q matplotlib\n",
        "!pip3 install -q torchvision\n",
        "!pip3 install -q prettytable\n",
        "!pip3 install -q pennylane-cirq\n",
        "!pip3 install -q pennylane-qiskit\n",
        "!pip3 install -q pennylane-lightning\n",
        "        \n",
        "# System\n",
        "import time\n",
        "import os, platform, sys\n",
        "import copy\n",
        "from datetime import datetime\n",
        "\n",
        "# PyTorch\n",
        "import torch\n",
        "import torch.nn as nn\n",
        "import torch.optim as optim\n",
        "from torch.optim import lr_scheduler\n",
        "import torchvision\n",
        "from torchvision import datasets, transforms\n",
        "\n",
        "# Pennylane\n",
        "import pennylane as qml\n",
        "from pennylane import numpy as np\n",
        "from pennylane_qiskit import AerDevice\n",
        "\n",
        "# Plotting\n",
        "import matplotlib.pyplot as plt\n",
        "\n",
        "# Quantum computers/simulators\n",
        "import qiskit\n",
        "import cirq\n",
        "from qiskit import IBMQ\n",
        "from qiskit.providers.ibmq import least_busy\n",
        "from cirq import Simulator"
      ]
    },
    {
      "cell_type": "code",
      "execution_count": 10,
      "metadata": {
        "colab": {
          "base_uri": "https://localhost:8080/"
        },
        "id": "0C1oUApy4WsL",
        "outputId": "8e03d08b-335e-47b0-a9cf-3a1163b29767"
      },
      "outputs": [
        {
          "output_type": "stream",
          "name": "stdout",
          "text": [
            "[Python version]: 3.7.12 (default, Sep 10 2021, 00:21:48) \n",
            "[GCC 7.5.0]\n",
            "[Deep Learning framework, Pytorch (Facebook) version]: 1.10.0+cu111\n",
            "[Qiskit (IBM) version]: 0.19.1\n",
            "[Quantum Machine Learning framework (Pennylane) version]: 0.20.0\n"
          ]
        }
      ],
      "source": [
        "print(\"[Python version]:\", sys.version)\n",
        "print(\"[Deep Learning framework, Pytorch (Facebook) version]:\", torch.__version__)\n",
        "print(\"[Qiskit (IBM) version]:\", qiskit.__version__)\n",
        "print(\"[Quantum Machine Learning framework (Pennylane) version]:\", qml.__version__)"
      ]
    },
    {
      "cell_type": "markdown",
      "metadata": {
        "id": "HiDsC_l74WsL"
      },
      "source": [
        "## Create & Save IBM Token Credential to local computer"
      ]
    },
    {
      "cell_type": "code",
      "execution_count": 11,
      "metadata": {
        "id": "8lgGwTKz4WsL"
      },
      "outputs": [],
      "source": [
        "IBMQ.save_account('a63b6a1cf53003aefe2ae45e4c33c98cf203d4e30fe96cdb091d38a8f81145e22c207f3bacd65d90d9dd3e85022f0cace70d2aa471b555124450d14296f897b1', overwrite=True) "
      ]
    },
    {
      "cell_type": "markdown",
      "metadata": {
        "id": "XBzTqoUl4WsL"
      },
      "source": [
        "Hardware:\n",
        "- CPU Configuration: Laptop CPU, MBP M1 with 16gb ram  \n",
        "- GPU Configuration: GColab Server with NVidia V100 16GB GPU (usually)\n",
        "\n",
        "#### Dataset for face mask & no mask (about 1500 images for training and validation, in _data/faces directory)\n",
        "\n",
        "face mask/no_mask dataset - https://github.com/prajnasb/observations/tree/master/experiements/data\n",
        "\n",
        "- 2 categories, each category about 750 for images training & validation\n",
        "- Just for a quick go-through, set num_epochs = 1. ==> Training Accuracy will be about 93%\n",
        "- around 45 min per epoch on CPU, batch size=8\n",
        "\n",
        "If all things looks ok, num_epochs = 10 will produce quite a good result, but longer time to train on CPU \n",
        "- around 7 hours for 30 epochs on CPU, batch size=8\n",
        "- if high-end gpu is available, this should be just about 2 hours\n"
      ]
    },
    {
      "cell_type": "markdown",
      "metadata": {
        "id": "CTHEjt9L4WsM"
      },
      "source": [
        "## Set Parameters"
      ]
    },
    {
      "cell_type": "code",
      "execution_count": 12,
      "metadata": {
        "id": "vJBTwD4Q4WsM",
        "colab": {
          "resources": {
            "http://localhost:8080/nbextensions/google.colab/files.js": {
              "data": "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",
              "ok": true,
              "headers": [
                [
                  "content-type",
                  "application/javascript"
                ]
              ],
              "status": 200,
              "status_text": ""
            }
          },
          "base_uri": "https://localhost:8080/",
          "height": 124
        },
        "outputId": "c5fee8bc-9bac-425b-80ac-1c518dbb35a9"
      },
      "outputs": [
        {
          "output_type": "display_data",
          "data": {
            "text/html": [
              "\n",
              "     <input type=\"file\" id=\"files-83d1a166-6424-4bfd-963c-e4fd47e38b07\" name=\"files[]\" multiple disabled\n",
              "        style=\"border:none\" />\n",
              "     <output id=\"result-83d1a166-6424-4bfd-963c-e4fd47e38b07\">\n",
              "      Upload widget is only available when the cell has been executed in the\n",
              "      current browser session. Please rerun this cell to enable.\n",
              "      </output>\n",
              "      <script src=\"/nbextensions/google.colab/files.js\"></script> "
            ],
            "text/plain": [
              "<IPython.core.display.HTML object>"
            ]
          },
          "metadata": {}
        },
        {
          "output_type": "stream",
          "name": "stdout",
          "text": [
            "Saving kaggle.json to kaggle.json\n",
            "Downloading chest-xray-pneumonia.zip to /content/datasets\n",
            " 99% 2.28G/2.29G [00:27<00:01, 10.0MB/s]\n",
            "100% 2.29G/2.29G [00:27<00:00, 89.3MB/s]\n"
          ]
        }
      ],
      "source": [
        "# Upload your kaggle API key\n",
        "from google.colab import files\n",
        "files.upload()\n",
        "\n",
        "!rm -r ~/.kaggle\n",
        "!mkdir ~/.kaggle\n",
        "!mv ./kaggle.json ~/.kaggle/\n",
        "!chmod 600 ~/.kaggle/kaggle.json\n",
        "\n",
        "# replace this with whatever imagenet dataset we need to classify.\n",
        "!kaggle datasets download paultimothymooney/chest-xray-pneumonia -p /content/datasets/ --unzip\n",
        "dataset_dir = \"/content/datasets/chest_xray\"\n",
        "\n",
        "num_epochs = 8                      # Number of training epochs (1 for testing, 8 for final)\n",
        "n_qubits = 4                        # Number of qubits \n",
        "step = 0.0004                       # Learning rate\n",
        "batch_size = 8                      # Number of samples for each training step\n",
        "q_depth = 6                         # Depth of the quantum circuit (number of variational layers)\n",
        "gamma_lr_scheduler = 0.1            # Learning rate reduction applied every 10 epochs.\n",
        "q_delta = 0.01                      # Initial spread of random quantum weights\n",
        "rng_seed = 3                        # Seed for random number generator\n",
        "start_time = time.time()            # Start of the computation timer\n",
        "\n",
        "model_fileext = \".pth\"\n",
        "log_fileext = \".log\" "
      ]
    },
    {
      "cell_type": "markdown",
      "metadata": {
        "id": "IFUj64h14WsO"
      },
      "source": [
        "## Define Backend: Quantum Simulator or real Quantum Computer"
      ]
    },
    {
      "cell_type": "code",
      "execution_count": 13,
      "metadata": {
        "id": "azztf6L-4WsO",
        "colab": {
          "base_uri": "https://localhost:8080/"
        },
        "outputId": "215f1898-5772-49b7-b357-279aa004ac06"
      },
      "outputs": [
        {
          "output_type": "stream",
          "name": "stdout",
          "text": [
            "Please select source:\n",
            "         Enter 1 if you don't know these are\n",
            "         1: Lightning Pennylane.ai Quantum Simulator\n",
            "         2: Qiskit Aer, IBM Quantum Simulator (local)\n",
            "         3: Qiskit IBMQ:Aer, IBM Quantum Simulator (IBM Quantum Computing Experience)\n",
            "         5: Google Cirq:Simulator (local)\n",
            "         9: Qiskit IBMQ:Terra, IBM real Quantum Computer (IBM Quantum Computing Experience)\n",
            "1\n",
            "=> Using Pennylane Quantum Computer Simulator (local)\n"
          ]
        }
      ],
      "source": [
        "def select_qc_backend():\n",
        "    valid_selections = ('1', '2', '3', '5', '9')\n",
        "    prompt = \"Please select source:\\n \\\n",
        "        Enter 1 if you don't know these are\\n \\\n",
        "        1: Lightning Pennylane.ai Quantum Simulator\\n \\\n",
        "        2: Qiskit Aer, IBM Quantum Simulator (local)\\n \\\n",
        "        3: Qiskit IBMQ:Aer, IBM Quantum Simulator (IBM Quantum Computing Experience)\\n \\\n",
        "        5: Google Cirq:Simulator (local)\\n \\\n",
        "        9: Qiskit IBMQ:Terra, IBM real Quantum Computer (IBM Quantum Computing Experience)\\n\"    \n",
        "    selection = input(prompt)\n",
        "    while not(selection in valid_selections):\n",
        "        selection = input(prompt)\n",
        "    return selection\n",
        "\n",
        "# select backend quantum computer\n",
        "qc_backend = int(select_qc_backend())\n",
        "if qc_backend == 1: # lightning pennylane\n",
        "    backend_name = \"simPennylane\"\n",
        "    print(\"=> Using Pennylane Quantum Computer Simulator (local)\")\n",
        "    dev = qml.device(\"lightning.qubit\", wires=n_qubits)\n",
        "elif qc_backend == 2: # ibm quantum simulator (local) \n",
        "    backend_name = \"simIBMQLocal\"\n",
        "    print(\"=> Using IBM Quantum Computer Simulator (local)\")\n",
        "    dev = qml.device(\"qiskit.aer\", wires=n_qubits)\n",
        "elif qc_backend == 3: # ibm quantum simulator (cloud) \n",
        "    backend_name = \"simIBMQCloud\"\n",
        "    print(\"=> Using IBM Quantum Computer Simulator (IBM Quantum Computing Experience on IBM Cloud)\")\n",
        "    print(\"Loading IBMQ credentials...\")\n",
        "    IBMQ.load_account()\n",
        "    provider = IBMQ.get_provider('ibm-q')\n",
        "    backend = 'ibmq_qasm_simulator'\n",
        "    dev = qml.device(\"qiskit.ibmq\", wires=n_qubits, backend=backend)\n",
        "    #dev.capabilities()['backend']\n",
        "elif qc_backend == 5: # google quantum simulator (local) \n",
        "    backend_name = \"simGoogleLocal\"\n",
        "    print(\"=> Using Google Quantum Computer Simulator (local)\")\n",
        "    dev = qml.device(\"cirq.simulator\", wires=n_qubits)\n",
        "elif qc_backend == 9: # ibm real quantum computer (cloud)\n",
        "    backend_name = \"realIBMQCloud\"\n",
        "    print(\"=> Using real IBM Quantum Computer (IBM Quantum Computing Experience on IBM Cloud)\")\n",
        "    print(\"Loading IBMQ credentials...\")\n",
        "    IBMQ.load_account()\n",
        "    provider = IBMQ.get_provider('ibm-q')\n",
        "    print(\"Searching available least busy real IBM Quantum Computer...\")\n",
        "    backend = least_busy(provider.backends(filters=lambda x: x.configuration().n_qubits >= 4 \\\n",
        "        and not x.configuration().simulator \\\n",
        "        and x.status().operational==True))\n",
        "    print('using least busy backend:', backend)\n",
        "    dev = qml.device(\"qiskit.ibmq\", wires=n_qubits, backend=str(backend))\n",
        "    #dev.capabilities()['backend']\n"
      ]
    },
    {
      "cell_type": "code",
      "execution_count": 14,
      "metadata": {
        "id": "52J8LzUX4WsO"
      },
      "outputs": [],
      "source": [
        "now = datetime.now()\n",
        "now_str = now.strftime(\"%d%m%Y%H%M%S\")\n",
        "\n",
        "# model & log file name to generate\n",
        "# swgCQ_resnet18_ + selected backend name + max epochs + current date & time + extension\n",
        "#   - pytorch model file extension '.pth'\n",
        "#   - log file for the generated model file extension '.log'\n",
        "base_filename = \"swgCQ_\"\n",
        "interim_model_name = base_filename + backend_name \n",
        "hybrid_model_name = base_filename + backend_name + \"(\" + str(num_epochs) + \")-\" + now_str + model_fileext\n",
        "log_filename = base_filename + backend_name + \"(\" + str(num_epochs) + \")-\" + now_str + log_fileext\n",
        "\n",
        "train_val_filename = base_filename + backend_name + \"_train_val-results\" + now_str"
      ]
    },
    {
      "cell_type": "code",
      "execution_count": 15,
      "metadata": {
        "id": "xmxHgUH94WsO",
        "colab": {
          "base_uri": "https://localhost:8080/"
        },
        "outputId": "54afa69a-953f-480b-a2ae-4f455b9c5ce9"
      },
      "outputs": [
        {
          "output_type": "stream",
          "name": "stdout",
          "text": [
            "cuda is available, using: cuda:0\n"
          ]
        }
      ],
      "source": [
        "# USE NVidia CUDA (GPU) if available\n",
        "# ----------------------------------\n",
        "is_cuda_available = torch.cuda.is_available()\n",
        "device = torch.device(\"cuda:0\" if is_cuda_available else \"cpu\")\n",
        "if is_cuda_available:\n",
        "    print (\"cuda is available, using:\", device)\n",
        "else:\n",
        "    print (\"cuda is not available, using:\", device)"
      ]
    },
    {
      "cell_type": "markdown",
      "metadata": {
        "id": "N1yvkeIy4WsO"
      },
      "source": [
        "## Prepare new dataset to retrain last layer (fc-layer) of pre-trained resnet-18"
      ]
    },
    {
      "cell_type": "code",
      "execution_count": 16,
      "metadata": {
        "id": "I0aQLcyi4WsP"
      },
      "outputs": [],
      "source": [
        "# initialize data loaders\n",
        "data_transforms = {\n",
        "    \"train\": transforms.Compose(\n",
        "        [\n",
        "            transforms.Resize(256),\n",
        "            transforms.CenterCrop(224),\n",
        "            transforms.ToTensor(),\n",
        "            # Normalize input channels using mean values and standard deviations of ImageNet.\n",
        "            transforms.Normalize([0.485, 0.456, 0.406], [0.229, 0.224, 0.225]),\n",
        "        ]\n",
        "    ),\n",
        "    \"val\": transforms.Compose(\n",
        "        [\n",
        "            transforms.Resize(256),\n",
        "            transforms.CenterCrop(224),\n",
        "            transforms.ToTensor(),\n",
        "            transforms.Normalize([0.485, 0.456, 0.406], [0.229, 0.224, 0.225]),\n",
        "        ]\n",
        "    ),\n",
        "}\n",
        "\n",
        "data_dir = dataset_dir # Images data, faces with and without mask\n",
        "image_datasets = {\n",
        "    x if x == \"train\" else \"validation\": datasets.ImageFolder(os.path.join(data_dir, x), data_transforms[x])\n",
        "    for x in [\"train\", \"val\"]\n",
        "}\n",
        "dataset_sizes = {x: len(image_datasets[x]) for x in [\"train\", \"validation\"]}\n",
        "class_names = image_datasets[\"train\"].classes\n",
        "\n",
        "# Initialize dataloader\n",
        "dataloaders = {\n",
        "    x: torch.utils.data.DataLoader(image_datasets[x], batch_size=batch_size, shuffle=True)\n",
        "    for x in [\"train\", \"validation\"]\n",
        "}\n",
        "\n",
        "# function to plot images\n",
        "def imshow(inp, title=None):\n",
        "    \"\"\"Display image from tensor.\"\"\"\n",
        "    inp = inp.numpy().transpose((1, 2, 0))\n",
        "    # Inverse of the initial normalization operation.\n",
        "    mean = np.array([0.485, 0.456, 0.406])\n",
        "    std = np.array([0.229, 0.224, 0.225])\n",
        "    inp = std * inp + mean\n",
        "    inp = np.clip(inp, 0, 1)\n",
        "    plt.imshow(inp)\n",
        "    if title is not None:\n",
        "        plt.title(title)"
      ]
    },
    {
      "cell_type": "code",
      "execution_count": 17,
      "metadata": {
        "id": "nFJ218Xe4WsP",
        "colab": {
          "base_uri": "https://localhost:8080/",
          "height": 106
        },
        "outputId": "d8859c1a-ff9b-4cb2-9405-d1140c7444d9"
      },
      "outputs": [
        {
          "output_type": "display_data",
          "data": {
            "image/png": "[encoded data removed]",
            "text/plain": [
              "<Figure size 432x288 with 1 Axes>"
            ]
          },
          "metadata": {
            "needs_background": "light"
          }
        }
      ],
      "source": [
        "# Get a batch of training data\n",
        "inputs, classes = next(iter(dataloaders[\"validation\"]))\n",
        "\n",
        "# Make a grid from batch\n",
        "out = torchvision.utils.make_grid(inputs)\n",
        "\n",
        "imshow(out, title=[class_names[x] for x in classes])\n",
        "\n",
        "# In order to get reproducible results, we set a manual seed for the\n",
        "# random number generator and re-initialize the dataloaders.\n",
        "\n",
        "torch.manual_seed(rng_seed)\n",
        "dataloaders = {\n",
        "    x: torch.utils.data.DataLoader(image_datasets[x], batch_size=batch_size, shuffle=True)\n",
        "    for x in [\"train\", \"validation\"]\n",
        "}"
      ]
    },
    {
      "cell_type": "markdown",
      "metadata": {
        "id": "dlf-n2lE4WsP"
      },
      "source": [
        "## Define quantum layer to replace the fc-layer of pre-trained resnet-18"
      ]
    },
    {
      "cell_type": "markdown",
      "metadata": {
        "id": "4t6hriIw4WsP"
      },
      "source": [
        "### Variational Quantum Circuit"
      ]
    },
    {
      "cell_type": "markdown",
      "metadata": {
        "id": "xfE7Kmxw4WsP"
      },
      "source": [
        "#### Define base quantum layers\n",
        "Define quantum layers that will compose the quantum circuit\n",
        "- Hadamard (for making superposition)\n",
        "- Ry & Entanglement"
      ]
    },
    {
      "cell_type": "code",
      "execution_count": 18,
      "metadata": {
        "id": "E_SWZAKN4WsQ"
      },
      "outputs": [],
      "source": [
        "# 1st - Prepare the Quantum Gates\n",
        "def H_layer(nqubits):\n",
        "    \"\"\"Layer of single-qubit Hadamard gates.\n",
        "    \"\"\"\n",
        "    for idx in range(nqubits):\n",
        "        qml.Hadamard(wires=idx)\n",
        "        \n",
        "def RY_layer(w):\n",
        "    \"\"\"Layer of parametrized qubit rotations around the y axis.\n",
        "    \"\"\"\n",
        "    for idx, element in enumerate(w):\n",
        "        qml.RY(element, wires=idx)\n",
        "        \n",
        "def entangling_layer(nqubits):\n",
        "    \"\"\"Layer of CNOTs followed by another shifted layer of CNOT.\n",
        "    \"\"\"\n",
        "    # In other words it should apply something like :\n",
        "    # CNOT  CNOT  CNOT  CNOT...  CNOT\n",
        "    #   CNOT  CNOT  CNOT...  CNOT\n",
        "    for i in range(0, nqubits - 1, 2):  # Loop over even indices: i=0,2,...N-2\n",
        "        qml.CNOT(wires=[i, i + 1])\n",
        "    for i in range(1, nqubits - 1, 2):  # Loop over odd indices:  i=1,3,...N-3\n",
        "        qml.CNOT(wires=[i, i + 1])"
      ]
    },
    {
      "cell_type": "markdown",
      "metadata": {
        "id": "fuMjs-o44WsQ"
      },
      "source": [
        "#### Define Quantum Circuit\n",
        "Define the quantum circuit through the PennyLane qnode decorator. The structure is that of a typical variational quantum circuit:\n",
        "- Embedding layer: All qubits are first initialized in a balanced superposition of up and down states, then they are rotated according to the input parameters (local embedding).\n",
        "- Variational layers: A sequence of trainable rotation layers and constant entangling layers is applied.\n",
        "- Measurement layer: For each qubit, the local expectation value of the \n",
        "Z operator is measured. This produces a classical output vector, suitable for additional post-processing."
      ]
    },
    {
      "cell_type": "code",
      "execution_count": 19,
      "metadata": {
        "id": "_kw6nFNd4WsQ"
      },
      "outputs": [],
      "source": [
        "@qml.qnode(dev, interface=\"torch\")\n",
        "def quantum_net(q_input_features, q_weights_flat):\n",
        "    \"\"\"\n",
        "    The variational quantum circuit.\n",
        "    \"\"\"\n",
        "    # Reshape weights\n",
        "    q_weights = q_weights_flat.reshape(q_depth, n_qubits)\n",
        "\n",
        "    # Start from state |+> , unbiased w.r.t. |0> and |1>\n",
        "    H_layer(n_qubits)\n",
        "    \n",
        "    # Embed features in the quantum node\n",
        "    RY_layer(q_input_features)\n",
        "    \n",
        "    # Sequence of trainable variational layers\n",
        "    for k in range(q_depth):\n",
        "        entangling_layer(n_qubits)\n",
        "        RY_layer(q_weights[k])\n",
        "        \n",
        "    # Expectation values in the Z basis\n",
        "    exp_vals = [qml.expval(qml.PauliZ(position)) for position in range(n_qubits)]\n",
        "    return tuple(exp_vals)"
      ]
    },
    {
      "cell_type": "markdown",
      "metadata": {
        "id": "dD_sKA0x4WsQ"
      },
      "source": [
        "#### Define a custom torch.nn.Module representing a dressed quantum circuit.\n",
        "\n",
        "This is a concatenation of:\n",
        "- A classical pre-processing layer (nn.Linear)\n",
        "- A classical activation function (torch.tanh)\n",
        "- A constant np.pi/2.0 scaling\n",
        "- The previously defined quantum circuit (quantum_net)\n",
        "- A classical post-processing layer (nn.Linear)\n",
        "\n",
        "The input of the module is a batch of vectors with 512 real parameters (features) and the output is a batch of vectors with two real outputs (associated with the two classes of images: face_mask and face_nomask)."
      ]
    },
    {
      "cell_type": "code",
      "execution_count": 20,
      "metadata": {
        "id": "3ZZqCL3S4WsQ"
      },
      "outputs": [],
      "source": [
        "# 2nd - Prepare the Replacement Quantum Layer\n",
        "class DressedQuantumNet(nn.Module):\n",
        "    \"\"\"\n",
        "    Torch module implementing the *dressed* quantum net.\n",
        "    \"\"\"\n",
        "\n",
        "    def __init__(self):\n",
        "        \"\"\"\n",
        "        Definition of the *dressed* layout.\n",
        "        \"\"\"\n",
        "\n",
        "        super().__init__()\n",
        "        self.pre_net = nn.Linear(512, n_qubits)\n",
        "        self.q_params = nn.Parameter(q_delta * torch.randn(q_depth * n_qubits))\n",
        "        self.post_net = nn.Linear(n_qubits, 2)\n",
        "\n",
        "    def forward(self, input_features):\n",
        "        \"\"\"\n",
        "        Defining how tensors are supposed to move through the *dressed* quantum\n",
        "        net.\n",
        "        \"\"\"\n",
        "\n",
        "        # obtain the input features for the quantum circuit\n",
        "        # by reducing the feature dimension from 512 to 4\n",
        "        pre_out = self.pre_net(input_features)\n",
        "        q_in = torch.tanh(pre_out) * np.pi / 2.0\n",
        "\n",
        "        # Apply the quantum circuit to each element of the batch and append to q_out\n",
        "        q_out = torch.Tensor(0, n_qubits)\n",
        "        q_out = q_out.to(device)\n",
        "        for elem in q_in:\n",
        "            q_out_elem = quantum_net(elem, self.q_params).float().unsqueeze(0)\n",
        "            q_out = torch.cat((q_out, q_out_elem))\n",
        "\n",
        "        # return the two-dimensional prediction from the postprocessing layer\n",
        "        return self.post_net(q_out)"
      ]
    },
    {
      "cell_type": "markdown",
      "metadata": {
        "id": "CoE_LpAD4WsR"
      },
      "source": [
        "#### Build a full hybrid classical-quantum network\n",
        "\n",
        "Following the transfer learning approach:\n",
        "\n",
        "- load the classical pre-trained network ResNet18 from the torchvision.models zoo\n",
        "- freeze all the weights since they should not be trained\n",
        "- replace the last fully connected layer with our trainable dressed quantum circuit (DressedQuantumNet)"
      ]
    },
    {
      "cell_type": "code",
      "execution_count": 21,
      "metadata": {
        "id": "gEdjX9n94WsR",
        "colab": {
          "base_uri": "https://localhost:8080/",
          "height": 66,
          "referenced_widgets": [
            "4259e46a9a0d49bbbcb42e25b40ddf2c",
            "025243ee37a246e7b940c770e5e3ab55",
            "a553e11da9734609947c248d9a3a80d7",
            "bb7c5cdc45bd4090b2fed57a8e1001ff",
            "959550379dc94203bb329e48871e56e1",
            "e63f30e170cb49d68c1fbcbaad1ace06",
            "ab0f81ffdad1467eb38f91fa5ea4d7a6",
            "1f97198df0874472b31e96d3fffd65e8",
            "beea54e437984084aeadb5526d46184a",
            "b90c875131be49528df96bb1fdac0fca",
            "1e07f9d5273a4adb94f35a09523fc25a"
          ]
        },
        "outputId": "cf65aeac-c550-431b-cb0c-11043cddc88b"
      },
      "outputs": [
        {
          "output_type": "stream",
          "name": "stderr",
          "text": [
            "Downloading: \"https://download.pytorch.org/models/resnet18-f37072fd.pth\" to /root/.cache/torch/hub/checkpoints/resnet18-f37072fd.pth\n"
          ]
        },
        {
          "output_type": "display_data",
          "data": {
            "application/vnd.jupyter.widget-view+json": {
              "model_id": "4259e46a9a0d49bbbcb42e25b40ddf2c",
              "version_minor": 0,
              "version_major": 2
            },
            "text/plain": [
              "  0%|          | 0.00/44.7M [00:00<?, ?B/s]"
            ]
          },
          "metadata": {}
        }
      ],
      "source": [
        "# 3rd - Replace last layer of resnet-18 with defined quantum layer\n",
        "model_hybrid = torchvision.models.resnet18(pretrained=True)\n",
        "\n",
        "for param in model_hybrid.parameters():\n",
        "    param.requires_grad = False\n",
        "\n",
        "# Notice that model_hybrid.fc is the last layer of ResNet18\n",
        "model_hybrid.fc = DressedQuantumNet()\n",
        "\n",
        "# Use CUDA or CPU according to the \"device\" object.\n",
        "model_hybrid = model_hybrid.to(device)"
      ]
    },
    {
      "cell_type": "code",
      "execution_count": 22,
      "metadata": {
        "id": "cIsbzqhE4WsR"
      },
      "outputs": [],
      "source": [
        "criterion = nn.CrossEntropyLoss()\n",
        "optimizer_hybrid = optim.Adam(model_hybrid.fc.parameters(), lr=step)\n",
        "exp_lr_scheduler = lr_scheduler.StepLR(optimizer_hybrid, step_size=10, gamma=gamma_lr_scheduler)"
      ]
    },
    {
      "cell_type": "markdown",
      "metadata": {
        "id": "grjxEkZE4WsR"
      },
      "source": [
        "# 2. Retrain"
      ]
    },
    {
      "cell_type": "markdown",
      "metadata": {
        "id": "ZKZ-q8wW4WsR"
      },
      "source": [
        "## Define how to retrain the DressedQuantumNet (last layer)"
      ]
    },
    {
      "cell_type": "code",
      "execution_count": 23,
      "metadata": {
        "id": "kC5MtT7G4WsR"
      },
      "outputs": [],
      "source": [
        "def train_model(model, criterion, optimizer, scheduler, num_epochs, temp_model_name):\n",
        "    since = time.time()\n",
        "    best_model_wts = copy.deepcopy(model.state_dict())\n",
        "    best_acc = 0.0\n",
        "    best_loss = 10000.0  # Large arbitrary number\n",
        "    best_acc_train = 0.0\n",
        "    best_loss_train = 10000.0  # Large arbitrary number\n",
        "    \n",
        "    for epoch in range(num_epochs):\n",
        "        # Each epoch has a training and validation phase\n",
        "        for phase in [\"train\", \"validation\"]:\n",
        "            if phase == \"train\":\n",
        "                # Set model to training mode\n",
        "                model.train()\n",
        "            else:\n",
        "                # Set model to evaluate mode\n",
        "                model.eval()\n",
        "            running_loss = 0.0\n",
        "            running_corrects = 0\n",
        "\n",
        "            # Iterate over data.\n",
        "            n_batches = dataset_sizes[phase] // batch_size\n",
        "            it = 0\n",
        "            for inputs, labels in dataloaders[phase]:\n",
        "                since_batch = time.time()\n",
        "                batch_size_ = len(inputs)\n",
        "                inputs = inputs.to(device)\n",
        "                labels = labels.to(device)\n",
        "                optimizer.zero_grad()\n",
        "\n",
        "                # Track/compute gradient and make an optimization step only when training\n",
        "                with torch.set_grad_enabled(phase == \"train\"):\n",
        "                    outputs = model(inputs)\n",
        "                    _, preds = torch.max(outputs, 1)\n",
        "                    loss = criterion(outputs, labels)\n",
        "                    if phase == \"train\":\n",
        "                        loss.backward()\n",
        "                        optimizer.step()\n",
        "\n",
        "                # Print iteration results\n",
        "                running_loss += loss.item() * batch_size_\n",
        "                batch_corrects = torch.sum(preds == labels.data).item()\n",
        "                running_corrects += batch_corrects\n",
        "                message = \"     > Phase: {} Epoch: {}/{} Iter: {}/{} Batch time: {:.4f}\".format(\n",
        "                                    phase,\n",
        "                                    epoch + 1,\n",
        "                                    num_epochs,\n",
        "                                    it + 1,\n",
        "                                    n_batches + 1,\n",
        "                                    time.time() - since_batch,\n",
        "                                 )\n",
        "                # Print to screen with flush=True \n",
        "                print(message,\n",
        "                        end=\"\\r\",\n",
        "                        flush=True,\n",
        "                )\n",
        "                it += 1\n",
        "\n",
        "            # Print epoch results\n",
        "            epoch_loss = running_loss / dataset_sizes[phase]\n",
        "            epoch_acc = running_corrects / dataset_sizes[phase]\n",
        "            message = \"     > Phase: {} Epoch: {}/{} Loss: {:.4f} Acc: {:.4f}\".format(\n",
        "                                \"train\" if phase == \"train\" else \"validation  \",\n",
        "                                epoch + 1,\n",
        "                                num_epochs,\n",
        "                                epoch_loss,\n",
        "                                epoch_acc,\n",
        "                            )\n",
        "\n",
        "            # Check if this is the best model wrt previous epochs\n",
        "            if phase == \"validation\" and epoch_acc > best_acc:\n",
        "                best_acc = epoch_acc\n",
        "                best_model_wts = copy.deepcopy(model.state_dict())\n",
        "            if phase == \"validation\" and epoch_loss < best_loss:\n",
        "                best_loss = epoch_loss\n",
        "            if phase == \"train\" and epoch_acc > best_acc_train:\n",
        "                best_acc_train = epoch_acc\n",
        "            if phase == \"train\" and epoch_loss < best_loss_train:\n",
        "                best_loss_train = epoch_loss\n",
        "\n",
        "            train_Acc = \"{:.4f}\".format(best_acc_train)\n",
        "            train_Loss = \"{:.4f}\".format(best_loss_train)\n",
        "            val_Acc = \"{:.4f}\".format(best_acc)\n",
        "            val_Loss = \"{:.4f}\".format(best_loss)\n",
        "            \n",
        "            # Update learning rate\n",
        "            if phase == \"train\":\n",
        "                scheduler.step()\n",
        "        \n",
        "        # save the retrained model at this epoch completion\n",
        "        # epoch is saved as epoch+1 (so to start at 1 instead of 0)\n",
        "        # ---------------------------------------------------------\n",
        "        model_at_epoch = temp_model_name + \"-at-epoch-\"+ str(epoch+1) \\\n",
        "            + \"(\" + str(num_epochs) + \")-\" + now_str + model_fileext\n",
        "        torch.save(model_hybrid.state_dict(), model_at_epoch)\n",
        "        \n",
        "        # save results of trained model at this epoch\n",
        "        # ------------------------------------------- \n",
        "        # append list of \"epoch, train accuracy, train loss, val accuracy, val loss\" per epoch completion\n",
        "        #   accumulate in train_val_results\n",
        "        if epoch==0:\n",
        "            # create first row\n",
        "            train_val_results = np.array([[epoch+1, best_acc_train, best_loss_train, best_acc, best_loss]])\n",
        "        else:\n",
        "            train_result_at_epoch = np.array([[epoch+1, best_acc_train, best_loss_train, best_acc, best_loss]])\n",
        "            # append new row\n",
        "            train_val_results = np.append(train_val_results, train_result_at_epoch, axis=0) \n",
        "        \n",
        "    # Write train_val_results to file\n",
        "    np.save(train_val_filename, train_val_results)\n",
        "    \n",
        "    # Print final results\n",
        "    model.load_state_dict(best_model_wts)\n",
        "    time_elapsed = time.time() - since\n",
        "    total_training_time = \"{:.0f}m {:.0f}s\".format(time_elapsed // 60, time_elapsed % 60)\n",
        "    total_training_time = \"{:.0f}m {:.0f}s\".format(time_elapsed // 60, time_elapsed % 60)\n",
        "    return model, total_training_time, train_Acc, train_Loss, val_Acc, val_Loss, train_val_results"
      ]
    },
    {
      "cell_type": "markdown",
      "metadata": {
        "id": "W515un9p4WsS"
      },
      "source": [
        "## Re-train the quantum layer"
      ]
    },
    {
      "cell_type": "code",
      "execution_count": null,
      "metadata": {
        "id": "wSIFRUa64WsS",
        "colab": {
          "base_uri": "https://localhost:8080/"
        },
        "outputId": "6fc43abe-0f98-4f8b-a8a2-fc4751b65d0e"
      },
      "outputs": [
        {
          "output_type": "stream",
          "name": "stdout",
          "text": [
            ""
          ]
        }
      ],
      "source": [
        "model_hybrid, total_training_time, train_Acc, train_Loss, val_Acc, val_Loss, train_val_results = train_model(\n",
        "    model_hybrid, criterion, optimizer_hybrid, exp_lr_scheduler, num_epochs=num_epochs, temp_model_name = interim_model_name)"
      ]
    },
    {
      "cell_type": "code",
      "execution_count": null,
      "metadata": {
        "id": "KLWQ3uQ24WsS"
      },
      "outputs": [],
      "source": [
        "# SAVE final retrained Resnet-18 model\n",
        "# ------------------------------------\n",
        "torch.save(model_hybrid.state_dict(), hybrid_model_name)"
      ]
    },
    {
      "cell_type": "code",
      "execution_count": null,
      "metadata": {
        "id": "JzWx6VGW4WsS"
      },
      "outputs": [],
      "source": [
        "# PRINT training summary\n",
        "# ----------------------\n",
        "from prettytable import PrettyTable\n",
        "    \n",
        "t_summary = PrettyTable()\n",
        "t_summary.field_names = [\"QC backend\", \"epoch\", \"batch size\", \\\n",
        "    \"train time\", \"train Acc\", \"train Loss\", \"val Acc\", \"val Loss\"]\n",
        "t_summary.add_row([backend_name, num_epochs, batch_size, \\\n",
        "    total_training_time, train_Acc, train_Loss, val_Acc, val_Loss])"
      ]
    },
    {
      "cell_type": "code",
      "execution_count": null,
      "metadata": {
        "id": "1fM_nHTz4WsT"
      },
      "outputs": [],
      "source": [
        "for x in train_val_results:\n",
        "    print(x)"
      ]
    },
    {
      "cell_type": "code",
      "execution_count": null,
      "metadata": {
        "id": "TwlIin2R4WsT"
      },
      "outputs": [],
      "source": [
        "epoch = []\n",
        "train_acc = []\n",
        "train_loss = []\n",
        "val_acc =[]\n",
        "val_loss = []\n",
        "\n",
        "for i in range(0, len(train_val_results)):\n",
        "    epoch = np.append(epoch, train_val_results[i,0])\n",
        "    train_acc = np.append(train_acc, train_val_results[i,1])\n",
        "    train_loss = np.append(train_loss, train_val_results[i,2])    \n",
        "    val_acc = np.append(val_acc, train_val_results[i,3])\n",
        "    val_loss = np.append(val_loss, train_val_results[i,4])    "
      ]
    },
    {
      "cell_type": "code",
      "execution_count": null,
      "metadata": {
        "id": "CZujqP2F4WsT"
      },
      "outputs": [],
      "source": [
        "# PLOT graph - training/validation accuracy, loss\n",
        "# -----------------------------------------------\n",
        "x1 = epoch\n",
        "x2 = epoch\n",
        "y1 = train_acc\n",
        "y2 = val_acc\n",
        "\n",
        "# plt.subplot(2, 1, 1)\n",
        "plt.plot(x1, y1, 'o-')\n",
        "plt.title('Training Summary: ' + backend_name)\n",
        "plt.ylabel('train/val accuracy')\n",
        "\n",
        "# plt.subplot(2, 1, 2)\n",
        "plt.plot(x2, y2, '.-')\n",
        "plt.xlabel('Epoch')\n",
        "# plt.ylabel('train/val accuracy')\n",
        "\n",
        "plt.legend([\"train accuracy\",\"val accuracy\"])\n",
        "plt.show()"
      ]
    },
    {
      "cell_type": "code",
      "execution_count": null,
      "metadata": {
        "id": "_mD48Ev_4WsT"
      },
      "outputs": [],
      "source": [
        "# PLOT graph - training/validation accuracy, loss\n",
        "# -----------------------------------------------\n",
        "y1 = train_loss\n",
        "y2 = val_loss\n",
        "\n",
        "# plt.subplot(2, 1, 1)\n",
        "plt.plot(x1, y1, 'o-')\n",
        "plt.title('Training Summary: ' + backend_name)\n",
        "plt.ylabel('train/val loss')\n",
        "\n",
        "# plt.subplot(2, 1, 2)\n",
        "plt.plot(x2, y2, '.-')\n",
        "plt.xlabel('Epoch')\n",
        "# plt.ylabel('train/val loss')\n",
        "\n",
        "plt.legend([\"train loss\",\"val loss\"])\n",
        "plt.show()"
      ]
    },
    {
      "cell_type": "code",
      "execution_count": null,
      "metadata": {
        "id": "l2_-GLx84WsT"
      },
      "outputs": [],
      "source": [
        "# INSPECT the retrained Resnet-18 model neural network architecture\n",
        "# -----------------------------------------------------------------\n",
        "model_arch = model_hybrid.eval()"
      ]
    },
    {
      "cell_type": "markdown",
      "metadata": {
        "id": "4FVn8gz_4WsU"
      },
      "source": [
        "# 3. Test/Predict using the re-trained model"
      ]
    },
    {
      "cell_type": "code",
      "execution_count": null,
      "metadata": {
        "id": "IteZFe9w4WsU"
      },
      "outputs": [],
      "source": [
        "def visualize_model(model, num_images=4, fig_name=\"Predictions\"):\n",
        "    images_so_far = 0\n",
        "    _fig = plt.figure(fig_name, figsize=(15,15))\n",
        "    model.eval()\n",
        "    with torch.no_grad(): # inferencing\n",
        "        for _i, (inputs, labels) in enumerate(dataloaders[\"validation\"]):\n",
        "            inputs = inputs.to(device)\n",
        "            labels = labels.to(device)\n",
        "            outputs = model(inputs)\n",
        "            # Expectation value is probabilistic expected value of the result (measurement) of an experiment\n",
        "            # Pennylane implements the quantum measurement in such a way that:\n",
        "            #  - if the first qubit is non zero, it puts negative to the measurement\n",
        "            # expvals is expectation value of predicted class\n",
        "            expvals, preds = torch.max(outputs, 1)\n",
        "            # expvals_min is expectation value of another class as we only have 2 image classes/categories here\n",
        "            expvals_min, preds_min = torch.min(outputs, 1)\n",
        "            for j in range(inputs.size()[0]):\n",
        "                images_so_far += 1\n",
        "                ax = plt.subplot(num_images // 2, 2, images_so_far)\n",
        "                ax.axis(\"off\")\n",
        "                title = \"Detected as <\" + class_names[preds[j]] + \">, Expectation Value: \" + \\\n",
        "                    \"{:.5f}\".format(expvals[j]) + \" (\" + \\\n",
        "                    \"{:.5f}\".format(expvals_min[j]) + \")\" \n",
        "                ax.set_title(\"[{}]\".format(title))\n",
        "                imshow(inputs.cpu().data[j])\n",
        "                if images_so_far == num_images:\n",
        "                    return"
      ]
    },
    {
      "cell_type": "code",
      "execution_count": null,
      "metadata": {
        "id": "dhuWpvC84WsU"
      },
      "outputs": [],
      "source": [
        "visualize_model(model_hybrid, num_images=4, fig_name=\"Predictions\")\n",
        "plt.show()"
      ]
    }
  ],
  "metadata": {
    "accelerator": "GPU",
    "colab": {
      "collapsed_sections": [],
      "name": "QMLImageClassification.ipynb",
      "provenance": []
    },
    "kernelspec": {
      "display_name": "Python 3 (ipykernel)",
      "language": "python",
      "name": "python3"
    },
    "language_info": {
      "codemirror_mode": {
        "name": "ipython",
        "version": 3
      },
      "file_extension": ".py",
      "mimetype": "text/x-python",
      "name": "python",
      "nbconvert_exporter": "python",
      "pygments_lexer": "ipython3",
      "version": "3.9.10"
    },
    "widgets": {
      "application/vnd.jupyter.widget-state+json": {
        "4259e46a9a0d49bbbcb42e25b40ddf2c": {
          "model_module": "@jupyter-widgets/controls",
          "model_name": "HBoxModel",
          "model_module_version": "1.5.0",
          "state": {
            "_view_name": "HBoxView",
            "_dom_classes": [],
            "_model_name": "HBoxModel",
            "_view_module": "@jupyter-widgets/controls",
            "_model_module_version": "1.5.0",
            "_view_count": null,
            "_view_module_version": "1.5.0",
            "box_style": "",
            "layout": "IPY_MODEL_025243ee37a246e7b940c770e5e3ab55",
            "_model_module": "@jupyter-widgets/controls",
            "children": [
              "IPY_MODEL_a553e11da9734609947c248d9a3a80d7",
              "IPY_MODEL_bb7c5cdc45bd4090b2fed57a8e1001ff",
              "IPY_MODEL_959550379dc94203bb329e48871e56e1"
            ]
          }
        },
        "025243ee37a246e7b940c770e5e3ab55": {
          "model_module": "@jupyter-widgets/base",
          "model_name": "LayoutModel",
          "model_module_version": "1.2.0",
          "state": {
            "_view_name": "LayoutView",
            "grid_template_rows": null,
            "right": null,
            "justify_content": null,
            "_view_module": "@jupyter-widgets/base",
            "overflow": null,
            "_model_module_version": "1.2.0",
            "_view_count": null,
            "flex_flow": null,
            "width": null,
            "min_width": null,
            "border": null,
            "align_items": null,
            "bottom": null,
            "_model_module": "@jupyter-widgets/base",
            "top": null,
            "grid_column": null,
            "overflow_y": null,
            "overflow_x": null,
            "grid_auto_flow": null,
            "grid_area": null,
            "grid_template_columns": null,
            "flex": null,
            "_model_name": "LayoutModel",
            "justify_items": null,
            "grid_row": null,
            "max_height": null,
            "align_content": null,
            "visibility": null,
            "align_self": null,
            "height": null,
            "min_height": null,
            "padding": null,
            "grid_auto_rows": null,
            "grid_gap": null,
            "max_width": null,
            "order": null,
            "_view_module_version": "1.2.0",
            "grid_template_areas": null,
            "object_position": null,
            "object_fit": null,
            "grid_auto_columns": null,
            "margin": null,
            "display": null,
            "left": null
          }
        },
        "a553e11da9734609947c248d9a3a80d7": {
          "model_module": "@jupyter-widgets/controls",
          "model_name": "HTMLModel",
          "model_module_version": "1.5.0",
          "state": {
            "_view_name": "HTMLView",
            "style": "IPY_MODEL_e63f30e170cb49d68c1fbcbaad1ace06",
            "_dom_classes": [],
            "description": "",
            "_model_name": "HTMLModel",
            "placeholder": "​",
            "_view_module": "@jupyter-widgets/controls",
            "_model_module_version": "1.5.0",
            "value": "100%",
            "_view_count": null,
            "_view_module_version": "1.5.0",
            "description_tooltip": null,
            "_model_module": "@jupyter-widgets/controls",
            "layout": "IPY_MODEL_ab0f81ffdad1467eb38f91fa5ea4d7a6"
          }
        },
        "bb7c5cdc45bd4090b2fed57a8e1001ff": {
          "model_module": "@jupyter-widgets/controls",
          "model_name": "FloatProgressModel",
          "model_module_version": "1.5.0",
          "state": {
            "_view_name": "ProgressView",
            "style": "IPY_MODEL_1f97198df0874472b31e96d3fffd65e8",
            "_dom_classes": [],
            "description": "",
            "_model_name": "FloatProgressModel",
            "bar_style": "success",
            "max": 46830571,
            "_view_module": "@jupyter-widgets/controls",
            "_model_module_version": "1.5.0",
            "value": 46830571,
            "_view_count": null,
            "_view_module_version": "1.5.0",
            "orientation": "horizontal",
            "min": 0,
            "description_tooltip": null,
            "_model_module": "@jupyter-widgets/controls",
            "layout": "IPY_MODEL_beea54e437984084aeadb5526d46184a"
          }
        },
        "959550379dc94203bb329e48871e56e1": {
          "model_module": "@jupyter-widgets/controls",
          "model_name": "HTMLModel",
          "model_module_version": "1.5.0",
          "state": {
            "_view_name": "HTMLView",
            "style": "IPY_MODEL_b90c875131be49528df96bb1fdac0fca",
            "_dom_classes": [],
            "description": "",
            "_model_name": "HTMLModel",
            "placeholder": "​",
            "_view_module": "@jupyter-widgets/controls",
            "_model_module_version": "1.5.0",
            "value": " 44.7M/44.7M [00:00&lt;00:00, 160MB/s]",
            "_view_count": null,
            "_view_module_version": "1.5.0",
            "description_tooltip": null,
            "_model_module": "@jupyter-widgets/controls",
            "layout": "IPY_MODEL_1e07f9d5273a4adb94f35a09523fc25a"
          }
        },
        "e63f30e170cb49d68c1fbcbaad1ace06": {
          "model_module": "@jupyter-widgets/controls",
          "model_name": "DescriptionStyleModel",
          "model_module_version": "1.5.0",
          "state": {
            "_view_name": "StyleView",
            "_model_name": "DescriptionStyleModel",
            "description_width": "",
            "_view_module": "@jupyter-widgets/base",
            "_model_module_version": "1.5.0",
            "_view_count": null,
            "_view_module_version": "1.2.0",
            "_model_module": "@jupyter-widgets/controls"
          }
        },
        "ab0f81ffdad1467eb38f91fa5ea4d7a6": {
          "model_module": "@jupyter-widgets/base",
          "model_name": "LayoutModel",
          "model_module_version": "1.2.0",
          "state": {
            "_view_name": "LayoutView",
            "grid_template_rows": null,
            "right": null,
            "justify_content": null,
            "_view_module": "@jupyter-widgets/base",
            "overflow": null,
            "_model_module_version": "1.2.0",
            "_view_count": null,
            "flex_flow": null,
            "width": null,
            "min_width": null,
            "border": null,
            "align_items": null,
            "bottom": null,
            "_model_module": "@jupyter-widgets/base",
            "top": null,
            "grid_column": null,
            "overflow_y": null,
            "overflow_x": null,
            "grid_auto_flow": null,
            "grid_area": null,
            "grid_template_columns": null,
            "flex": null,
            "_model_name": "LayoutModel",
            "justify_items": null,
            "grid_row": null,
            "max_height": null,
            "align_content": null,
            "visibility": null,
            "align_self": null,
            "height": null,
            "min_height": null,
            "padding": null,
            "grid_auto_rows": null,
            "grid_gap": null,
            "max_width": null,
            "order": null,
            "_view_module_version": "1.2.0",
            "grid_template_areas": null,
            "object_position": null,
            "object_fit": null,
            "grid_auto_columns": null,
            "margin": null,
            "display": null,
            "left": null
          }
        },
        "1f97198df0874472b31e96d3fffd65e8": {
          "model_module": "@jupyter-widgets/controls",
          "model_name": "ProgressStyleModel",
          "model_module_version": "1.5.0",
          "state": {
            "_view_name": "StyleView",
            "_model_name": "ProgressStyleModel",
            "description_width": "",
            "_view_module": "@jupyter-widgets/base",
            "_model_module_version": "1.5.0",
            "_view_count": null,
            "_view_module_version": "1.2.0",
            "bar_color": null,
            "_model_module": "@jupyter-widgets/controls"
          }
        },
        "beea54e437984084aeadb5526d46184a": {
          "model_module": "@jupyter-widgets/base",
          "model_name": "LayoutModel",
          "model_module_version": "1.2.0",
          "state": {
            "_view_name": "LayoutView",
            "grid_template_rows": null,
            "right": null,
            "justify_content": null,
            "_view_module": "@jupyter-widgets/base",
            "overflow": null,
            "_model_module_version": "1.2.0",
            "_view_count": null,
            "flex_flow": null,
            "width": null,
            "min_width": null,
            "border": null,
            "align_items": null,
            "bottom": null,
            "_model_module": "@jupyter-widgets/base",
            "top": null,
            "grid_column": null,
            "overflow_y": null,
            "overflow_x": null,
            "grid_auto_flow": null,
            "grid_area": null,
            "grid_template_columns": null,
            "flex": null,
            "_model_name": "LayoutModel",
            "justify_items": null,
            "grid_row": null,
            "max_height": null,
            "align_content": null,
            "visibility": null,
            "align_self": null,
            "height": null,
            "min_height": null,
            "padding": null,
            "grid_auto_rows": null,
            "grid_gap": null,
            "max_width": null,
            "order": null,
            "_view_module_version": "1.2.0",
            "grid_template_areas": null,
            "object_position": null,
            "object_fit": null,
            "grid_auto_columns": null,
            "margin": null,
            "display": null,
            "left": null
          }
        },
        "b90c875131be49528df96bb1fdac0fca": {
          "model_module": "@jupyter-widgets/controls",
          "model_name": "DescriptionStyleModel",
          "model_module_version": "1.5.0",
          "state": {
            "_view_name": "StyleView",
            "_model_name": "DescriptionStyleModel",
            "description_width": "",
            "_view_module": "@jupyter-widgets/base",
            "_model_module_version": "1.5.0",
            "_view_count": null,
            "_view_module_version": "1.2.0",
            "_model_module": "@jupyter-widgets/controls"
          }
        },
        "1e07f9d5273a4adb94f35a09523fc25a": {
          "model_module": "@jupyter-widgets/base",
          "model_name": "LayoutModel",
          "model_module_version": "1.2.0",
          "state": {
            "_view_name": "LayoutView",
            "grid_template_rows": null,
            "right": null,
            "justify_content": null,
            "_view_module": "@jupyter-widgets/base",
            "overflow": null,
            "_model_module_version": "1.2.0",
            "_view_count": null,
            "flex_flow": null,
            "width": null,
            "min_width": null,
            "border": null,
            "align_items": null,
            "bottom": null,
            "_model_module": "@jupyter-widgets/base",
            "top": null,
            "grid_column": null,
            "overflow_y": null,
            "overflow_x": null,
            "grid_auto_flow": null,
            "grid_area": null,
            "grid_template_columns": null,
            "flex": null,
            "_model_name": "LayoutModel",
            "justify_items": null,
            "grid_row": null,
            "max_height": null,
            "align_content": null,
            "visibility": null,
            "align_self": null,
            "height": null,
            "min_height": null,
            "padding": null,
            "grid_auto_rows": null,
            "grid_gap": null,
            "max_width": null,
            "order": null,
            "_view_module_version": "1.2.0",
            "grid_template_areas": null,
            "object_position": null,
            "object_fit": null,
            "grid_auto_columns": null,
            "margin": null,
            "display": null,
            "left": null
          }
        }
      }
    }
  },
  "nbformat": 4,
  "nbformat_minor": 0
}